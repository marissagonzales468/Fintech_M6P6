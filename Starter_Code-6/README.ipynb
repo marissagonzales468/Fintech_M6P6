{
 "cells": [
  {
   "cell_type": "markdown",
   "id": "c6c1ece3-e8a4-4cad-a541-d9e249bed4c0",
   "metadata": {},
   "source": [
    "##  Application of Technology to Real-Estate Markets"
   ]
  },
  {
   "cell_type": "code",
   "execution_count": null,
   "id": "8009cbbc-158a-4f2f-908e-18ea0a3bc7a0",
   "metadata": {},
   "outputs": [],
   "source": [
    "This is an pplication that allows users to see  an instant real-estate market but using proptech!\n",
    "A one-click service for people to buy properties and then rent them. Particulary in the San-Fransico real-estate market with more updates to come!.\n",
    "The application features aggregation, interactive visualizations, and geospatial analysis \n",
    "to find properties in the San Francisco market that are viable investment opportunities."
   ]
  },
  {
   "cell_type": "markdown",
   "id": "71ab6242-12f7-4ead-a8e6-ffc26abcf199",
   "metadata": {},
   "source": [
    "## Technologies"
   ]
  },
  {
   "cell_type": "code",
   "execution_count": null,
   "id": "fad15832-c866-4c03-b95c-7fdcca342054",
   "metadata": {},
   "outputs": [],
   "source": [
    "This project leverages python 3.7 with the following packages:\n",
    " * [numpy](https://numpy.org) - Numpy provides an extensive\n",
    "package of mathematcal functions, random number generators, \n",
    "and other compendious functions.\n",
    "* [pandas](https://pandas.pydata.org) - For using data science/data analysis and machine learning tasks.\n",
    "* [hvplot](https://hvplot.holoviz.org) - For plotting visual data and seeing a map geographically,"
   ]
  },
  {
   "cell_type": "markdown",
   "id": "8e8d97c7-fa81-4755-8f82-fffe484259ba",
   "metadata": {},
   "source": [
    "## Installation Guide"
   ]
  },
  {
   "cell_type": "code",
   "execution_count": null,
   "id": "5b0c4c23-bea8-47b2-94f2-5ea2abe0c0ad",
   "metadata": {},
   "outputs": [],
   "source": [
    "Before running the application first install the following dependencies.\n",
    " \n",
    "```python\n",
    " pip install numpy\n",
    " pip install pandas\n",
    "conda install -c pyviz hvplot geoviews\n",
    "```\n",
    " \n"
   ]
  },
  {
   "cell_type": "markdown",
   "id": "46e855e0-58a6-4d22-a71e-e43a4687ae44",
   "metadata": {},
   "source": [
    "## Usage"
   ]
  },
  {
   "cell_type": "code",
   "execution_count": null,
   "id": "872ff7d8-35de-432e-8e93-7fe37e11a06d",
   "metadata": {},
   "outputs": [],
   "source": [
    "To use the loan qualifier application simply clone the repository and run the **app.py** with:\n",
    " \n",
    "```python\n",
    "python san_francisco_housing.ipynb\n",
    "```\n",
    " \n",
    "Upon launching the loan qualifier application you will be greeted with the following prompts.\n",
    " \n",
    "![Technology to Real-Estate MarketsPrompts](Images/sf_realestate.png)\n",
    " \n"
   ]
  },
  {
   "cell_type": "markdown",
   "id": "a9d0c4cd-59a0-4117-9222-f69b8e0bb6b7",
   "metadata": {},
   "source": [
    "## Contributors "
   ]
  },
  {
   "cell_type": "markdown",
   "id": "cd93f6cf-4944-4195-825c-16ff9f721f0b",
   "metadata": {},
   "source": [
    "Brought to you by Marissa Gonzales."
   ]
  },
  {
   "cell_type": "markdown",
   "id": "0eb6e154-f691-4c64-86bb-b273253565ec",
   "metadata": {},
   "source": [
    "## License"
   ]
  },
  {
   "cell_type": "code",
   "execution_count": null,
   "id": "0c01735b-b785-4f16-9cea-275591c3af7e",
   "metadata": {},
   "outputs": [],
   "source": [
    "MIT"
   ]
  }
 ],
 "metadata": {
  "kernelspec": {
   "display_name": "Python 3 (ipykernel)",
   "language": "python",
   "name": "python3"
  },
  "language_info": {
   "codemirror_mode": {
    "name": "ipython",
    "version": 3
   },
   "file_extension": ".py",
   "mimetype": "text/x-python",
   "name": "python",
   "nbconvert_exporter": "python",
   "pygments_lexer": "ipython3",
   "version": "3.7.13"
  }
 },
 "nbformat": 4,
 "nbformat_minor": 5
}
